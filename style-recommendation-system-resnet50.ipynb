{
 "cells": [
  {
   "cell_type": "code",
   "execution_count": 3,
   "id": "78c91257-1147-4423-bcfd-e01dcadb62dd",
   "metadata": {},
   "outputs": [
    {
     "name": "stdout",
     "output_type": "stream",
     "text": [
      "Found 49329 images belonging to 199 classes.\n",
      "Found 21011 images belonging to 199 classes.\n",
      "Found 6935 images belonging to 199 classes.\n",
      "Epoch 1/30\n"
     ]
    },
    {
     "name": "stderr",
     "output_type": "stream",
     "text": [
      "C:\\Users\\jkim436\\AppData\\Local\\anaconda3\\Lib\\site-packages\\keras\\src\\trainers\\data_adapters\\py_dataset_adapter.py:121: UserWarning: Your `PyDataset` class should call `super().__init__(**kwargs)` in its constructor. `**kwargs` can include `workers`, `use_multiprocessing`, `max_queue_size`. Do not pass these arguments to `fit()`, as they will be ignored.\n",
      "  self._warn_if_super_not_called()\n"
     ]
    },
    {
     "name": "stdout",
     "output_type": "stream",
     "text": [
      "\u001b[1m1542/1542\u001b[0m \u001b[32m━━━━━━━━━━━━━━━━━━━━\u001b[0m\u001b[37m\u001b[0m \u001b[1m661s\u001b[0m 406ms/step - accuracy: 0.0079 - loss: 5.3219 - val_accuracy: 0.0143 - val_loss: 5.1953\n",
      "Epoch 2/30\n",
      "\u001b[1m1542/1542\u001b[0m \u001b[32m━━━━━━━━━━━━━━━━━━━━\u001b[0m\u001b[37m\u001b[0m \u001b[1m703s\u001b[0m 455ms/step - accuracy: 0.0181 - loss: 5.1739 - val_accuracy: 0.0201 - val_loss: 5.1298\n",
      "Epoch 3/30\n",
      "\u001b[1m1542/1542\u001b[0m \u001b[32m━━━━━━━━━━━━━━━━━━━━\u001b[0m\u001b[37m\u001b[0m \u001b[1m706s\u001b[0m 456ms/step - accuracy: 0.0246 - loss: 5.0936 - val_accuracy: 0.0266 - val_loss: 5.0823\n",
      "Epoch 4/30\n",
      "\u001b[1m1542/1542\u001b[0m \u001b[32m━━━━━━━━━━━━━━━━━━━━\u001b[0m\u001b[37m\u001b[0m \u001b[1m739s\u001b[0m 478ms/step - accuracy: 0.0293 - loss: 5.0463 - val_accuracy: 0.0272 - val_loss: 5.0468\n",
      "Epoch 5/30\n",
      "\u001b[1m1542/1542\u001b[0m \u001b[32m━━━━━━━━━━━━━━━━━━━━\u001b[0m\u001b[37m\u001b[0m \u001b[1m784s\u001b[0m 507ms/step - accuracy: 0.0314 - loss: 5.0058 - val_accuracy: 0.0316 - val_loss: 5.0168\n",
      "Epoch 6/30\n",
      "\u001b[1m1542/1542\u001b[0m \u001b[32m━━━━━━━━━━━━━━━━━━━━\u001b[0m\u001b[37m\u001b[0m \u001b[1m797s\u001b[0m 516ms/step - accuracy: 0.0360 - loss: 4.9592 - val_accuracy: 0.0329 - val_loss: 4.9905\n",
      "Epoch 7/30\n",
      "\u001b[1m1542/1542\u001b[0m \u001b[32m━━━━━━━━━━━━━━━━━━━━\u001b[0m\u001b[37m\u001b[0m \u001b[1m693s\u001b[0m 449ms/step - accuracy: 0.0380 - loss: 4.9262 - val_accuracy: 0.0315 - val_loss: 4.9728\n",
      "Epoch 8/30\n",
      "\u001b[1m1542/1542\u001b[0m \u001b[32m━━━━━━━━━━━━━━━━━━━━\u001b[0m\u001b[37m\u001b[0m \u001b[1m662s\u001b[0m 428ms/step - accuracy: 0.0398 - loss: 4.9061 - val_accuracy: 0.0356 - val_loss: 4.9495\n",
      "Epoch 9/30\n",
      "\u001b[1m1542/1542\u001b[0m \u001b[32m━━━━━━━━━━━━━━━━━━━━\u001b[0m\u001b[37m\u001b[0m \u001b[1m626s\u001b[0m 405ms/step - accuracy: 0.0422 - loss: 4.8845 - val_accuracy: 0.0372 - val_loss: 4.9368\n",
      "Epoch 10/30\n",
      "\u001b[1m1542/1542\u001b[0m \u001b[32m━━━━━━━━━━━━━━━━━━━━\u001b[0m\u001b[37m\u001b[0m \u001b[1m539s\u001b[0m 349ms/step - accuracy: 0.0446 - loss: 4.8639 - val_accuracy: 0.0377 - val_loss: 4.9227\n",
      "Epoch 11/30\n",
      "\u001b[1m1542/1542\u001b[0m \u001b[32m━━━━━━━━━━━━━━━━━━━━\u001b[0m\u001b[37m\u001b[0m \u001b[1m556s\u001b[0m 360ms/step - accuracy: 0.0483 - loss: 4.8355 - val_accuracy: 0.0388 - val_loss: 4.9117\n",
      "Epoch 12/30\n",
      "\u001b[1m1542/1542\u001b[0m \u001b[32m━━━━━━━━━━━━━━━━━━━━\u001b[0m\u001b[37m\u001b[0m \u001b[1m526s\u001b[0m 340ms/step - accuracy: 0.0467 - loss: 4.8330 - val_accuracy: 0.0394 - val_loss: 4.9073\n",
      "Epoch 13/30\n",
      "\u001b[1m1542/1542\u001b[0m \u001b[32m━━━━━━━━━━━━━━━━━━━━\u001b[0m\u001b[37m\u001b[0m \u001b[1m544s\u001b[0m 352ms/step - accuracy: 0.0494 - loss: 4.8155 - val_accuracy: 0.0403 - val_loss: 4.8953\n",
      "Epoch 14/30\n",
      "\u001b[1m1542/1542\u001b[0m \u001b[32m━━━━━━━━━━━━━━━━━━━━\u001b[0m\u001b[37m\u001b[0m \u001b[1m559s\u001b[0m 362ms/step - accuracy: 0.0498 - loss: 4.7990 - val_accuracy: 0.0422 - val_loss: 4.8862\n",
      "Epoch 15/30\n",
      "\u001b[1m1542/1542\u001b[0m \u001b[32m━━━━━━━━━━━━━━━━━━━━\u001b[0m\u001b[37m\u001b[0m \u001b[1m519s\u001b[0m 336ms/step - accuracy: 0.0494 - loss: 4.7885 - val_accuracy: 0.0441 - val_loss: 4.8754\n",
      "Epoch 16/30\n",
      "\u001b[1m1542/1542\u001b[0m \u001b[32m━━━━━━━━━━━━━━━━━━━━\u001b[0m\u001b[37m\u001b[0m \u001b[1m528s\u001b[0m 342ms/step - accuracy: 0.0535 - loss: 4.7654 - val_accuracy: 0.0441 - val_loss: 4.8704\n",
      "Epoch 17/30\n",
      "\u001b[1m1542/1542\u001b[0m \u001b[32m━━━━━━━━━━━━━━━━━━━━\u001b[0m\u001b[37m\u001b[0m \u001b[1m514s\u001b[0m 333ms/step - accuracy: 0.0557 - loss: 4.7592 - val_accuracy: 0.0455 - val_loss: 4.8656\n",
      "Epoch 18/30\n",
      "\u001b[1m1542/1542\u001b[0m \u001b[32m━━━━━━━━━━━━━━━━━━━━\u001b[0m\u001b[37m\u001b[0m \u001b[1m515s\u001b[0m 333ms/step - accuracy: 0.0528 - loss: 4.7545 - val_accuracy: 0.0456 - val_loss: 4.8543\n",
      "Epoch 19/30\n",
      "\u001b[1m1542/1542\u001b[0m \u001b[32m━━━━━━━━━━━━━━━━━━━━\u001b[0m\u001b[37m\u001b[0m \u001b[1m501s\u001b[0m 324ms/step - accuracy: 0.0553 - loss: 4.7478 - val_accuracy: 0.0455 - val_loss: 4.8455\n",
      "Epoch 20/30\n",
      "\u001b[1m1542/1542\u001b[0m \u001b[32m━━━━━━━━━━━━━━━━━━━━\u001b[0m\u001b[37m\u001b[0m \u001b[1m502s\u001b[0m 325ms/step - accuracy: 0.0587 - loss: 4.7276 - val_accuracy: 0.0458 - val_loss: 4.8435\n",
      "Epoch 21/30\n",
      "\u001b[1m1542/1542\u001b[0m \u001b[32m━━━━━━━━━━━━━━━━━━━━\u001b[0m\u001b[37m\u001b[0m \u001b[1m491s\u001b[0m 318ms/step - accuracy: 0.0575 - loss: 4.7285 - val_accuracy: 0.0484 - val_loss: 4.8402\n",
      "Epoch 22/30\n",
      "\u001b[1m1542/1542\u001b[0m \u001b[32m━━━━━━━━━━━━━━━━━━━━\u001b[0m\u001b[37m\u001b[0m \u001b[1m490s\u001b[0m 317ms/step - accuracy: 0.0595 - loss: 4.7122 - val_accuracy: 0.0464 - val_loss: 4.8315\n",
      "Epoch 23/30\n",
      "\u001b[1m1542/1542\u001b[0m \u001b[32m━━━━━━━━━━━━━━━━━━━━\u001b[0m\u001b[37m\u001b[0m \u001b[1m494s\u001b[0m 320ms/step - accuracy: 0.0606 - loss: 4.7012 - val_accuracy: 0.0487 - val_loss: 4.8289\n",
      "Epoch 24/30\n",
      "\u001b[1m1542/1542\u001b[0m \u001b[32m━━━━━━━━━━━━━━━━━━━━\u001b[0m\u001b[37m\u001b[0m \u001b[1m433s\u001b[0m 280ms/step - accuracy: 0.0629 - loss: 4.6981 - val_accuracy: 0.0498 - val_loss: 4.8183\n",
      "Epoch 25/30\n",
      "\u001b[1m1542/1542\u001b[0m \u001b[32m━━━━━━━━━━━━━━━━━━━━\u001b[0m\u001b[37m\u001b[0m \u001b[1m426s\u001b[0m 276ms/step - accuracy: 0.0638 - loss: 4.6838 - val_accuracy: 0.0502 - val_loss: 4.8174\n",
      "Epoch 26/30\n",
      "\u001b[1m1542/1542\u001b[0m \u001b[32m━━━━━━━━━━━━━━━━━━━━\u001b[0m\u001b[37m\u001b[0m \u001b[1m430s\u001b[0m 278ms/step - accuracy: 0.0640 - loss: 4.6813 - val_accuracy: 0.0541 - val_loss: 4.8130\n",
      "Epoch 27/30\n",
      "\u001b[1m1542/1542\u001b[0m \u001b[32m━━━━━━━━━━━━━━━━━━━━\u001b[0m\u001b[37m\u001b[0m \u001b[1m434s\u001b[0m 281ms/step - accuracy: 0.0651 - loss: 4.6770 - val_accuracy: 0.0512 - val_loss: 4.8067\n",
      "Epoch 28/30\n",
      "\u001b[1m1542/1542\u001b[0m \u001b[32m━━━━━━━━━━━━━━━━━━━━\u001b[0m\u001b[37m\u001b[0m \u001b[1m433s\u001b[0m 280ms/step - accuracy: 0.0638 - loss: 4.6713 - val_accuracy: 0.0510 - val_loss: 4.8046\n",
      "Epoch 29/30\n",
      "\u001b[1m1542/1542\u001b[0m \u001b[32m━━━━━━━━━━━━━━━━━━━━\u001b[0m\u001b[37m\u001b[0m \u001b[1m430s\u001b[0m 279ms/step - accuracy: 0.0650 - loss: 4.6557 - val_accuracy: 0.0539 - val_loss: 4.7889\n",
      "Epoch 30/30\n",
      "\u001b[1m1542/1542\u001b[0m \u001b[32m━━━━━━━━━━━━━━━━━━━━\u001b[0m\u001b[37m\u001b[0m \u001b[1m431s\u001b[0m 279ms/step - accuracy: 0.0669 - loss: 4.6636 - val_accuracy: 0.0519 - val_loss: 4.7922\n",
      "\u001b[1m217/217\u001b[0m \u001b[32m━━━━━━━━━━━━━━━━━━━━\u001b[0m\u001b[37m\u001b[0m \u001b[1m40s\u001b[0m 184ms/step - accuracy: 0.0567 - loss: 4.7351\n",
      "Test Loss: 4.786777496337891, Test Accuracy: 0.053640950471162796\n"
     ]
    }
   ],
   "source": [
    "from tensorflow.keras.applications import ResNet50\n",
    "from tensorflow.keras.layers import GlobalAveragePooling2D\n",
    "from tensorflow.keras.models import Model\n",
    "from tensorflow.keras.layers import Dense, Dropout\n",
    "from tensorflow.keras.optimizers import Adam\n",
    "from tensorflow.keras.preprocessing.image import ImageDataGenerator\n",
    "\n",
    "base_dir = 'C://Users//jkim436//Downloads//compressed_images'\n",
    "datagen = ImageDataGenerator(rescale=1./255, shear_range=0.2, zoom_range=0.2, horizontal_flip=True, validation_split=0.3)\n",
    "\n",
    "train_generator = datagen.flow_from_directory(\n",
    "    base_dir, target_size=(64, 64), batch_size=32, class_mode='categorical', subset='training', shuffle=True)\n",
    "\n",
    "validation_generator = datagen.flow_from_directory(\n",
    "    base_dir, target_size=(64, 64), batch_size=32, class_mode='categorical', subset='validation', shuffle=True)\n",
    "\n",
    "test_datagen = ImageDataGenerator(rescale=1./255, validation_split=0.1)\n",
    "test_generator = test_datagen.flow_from_directory(\n",
    "    base_dir, target_size=(64, 64), batch_size=32, class_mode='categorical', subset='validation', shuffle=False)\n",
    "\n",
    "base_model = ResNet50(include_top=False, weights='imagenet', input_shape=(64, 64, 3))\n",
    "for layer in base_model.layers:\n",
    "    layer.trainable = False\n",
    "\n",
    "x = GlobalAveragePooling2D()(base_model.output)\n",
    "x = Dense(512, activation='relu')(x)\n",
    "x = Dropout(0.5)(x)\n",
    "predictions = Dense(199, activation='softmax')(x)\n",
    "\n",
    "model = Model(inputs=base_model.input, outputs=predictions)\n",
    "\n",
    "model.compile(optimizer=Adam(learning_rate=0.0001), loss='categorical_crossentropy', metrics=['accuracy'])\n",
    "\n",
    "from tensorflow.keras.callbacks import EarlyStopping\n",
    "\n",
    "early_stopping = EarlyStopping(monitor='val_loss', patience=5, restore_best_weights=True)\n",
    "\n",
    "history = model.fit(train_generator, epochs=30, validation_data=validation_generator, callbacks=[early_stopping])\n",
    "\n",
    "test_loss, test_accuracy = model.evaluate(test_generator)\n",
    "print(f\"Test Loss: {test_loss}, Test Accuracy: {test_accuracy}\")"
   ]
  },
  {
   "cell_type": "code",
   "execution_count": 4,
   "id": "0f2ec21d-8af8-4a34-8fd4-9afc99903a51",
   "metadata": {},
   "outputs": [
    {
     "data": {
      "image/png": "[encoded data removed]",
      "text/plain": [
       "<Figure size 1200x600 with 2 Axes>"
      ]
     },
     "metadata": {},
     "output_type": "display_data"
    }
   ],
   "source": [
    "import matplotlib.pyplot as plt\n",
    "\n",
    "plt.figure(figsize=(12, 6))\n",
    "plt.subplot(1, 2, 1)\n",
    "plt.plot(history.history['accuracy'])\n",
    "plt.plot(history.history['val_accuracy'])\n",
    "plt.title('Model Accuracy')\n",
    "plt.ylabel('Accuracy')\n",
    "plt.xlabel('Epoch')\n",
    "plt.legend(['Train', 'Validation'], loc='upper left')\n",
    "\n",
    "plt.subplot(1, 2, 2)\n",
    "plt.plot(history.history['loss'])\n",
    "plt.plot(history.history['val_loss'])\n",
    "plt.title('Model Loss')\n",
    "plt.ylabel('Loss')\n",
    "plt.xlabel('Epoch')\n",
    "plt.legend(['Train', 'Validation'], loc='upper left')\n",
    "\n",
    "plt.show()"
   ]
  },
  {
   "cell_type": "code",
   "execution_count": 5,
   "id": "19c4a0c4-685b-48c5-8d5b-2a2b222f91d1",
   "metadata": {},
   "outputs": [
    {
     "name": "stdout",
     "output_type": "stream",
     "text": [
      "Found 444 images belonging to 1 classes.\n"
     ]
    }
   ],
   "source": [
    "new_images_datagen = ImageDataGenerator(rescale=1./255)\n",
    "\n",
    "new_images_generator = new_images_datagen.flow_from_directory(\n",
    "    'C://Users//jkim436//Downloads//gallery-dl//pinterest//districtofchic',\n",
    "    target_size=(64, 64),\n",
    "    batch_size=1,  \n",
    "    class_mode=None,  \n",
    "    shuffle=False  \n",
    ")"
   ]
  },
  {
   "cell_type": "code",
   "execution_count": 7,
   "id": "56da810e-9db6-4706-be84-41da2629fd39",
   "metadata": {},
   "outputs": [],
   "source": [
    "import numpy as np"
   ]
  },
  {
   "cell_type": "code",
   "execution_count": 8,
   "id": "774c2deb-a3a8-462c-82cb-c45650504006",
   "metadata": {},
   "outputs": [
    {
     "name": "stdout",
     "output_type": "stream",
     "text": [
      "\u001b[1m444/444\u001b[0m \u001b[32m━━━━━━━━━━━━━━━━━━━━\u001b[0m\u001b[37m\u001b[0m \u001b[1m43s\u001b[0m 97ms/step\n"
     ]
    }
   ],
   "source": [
    "predictions = model.predict(new_images_generator)\n",
    "predicted_classes = np.argmax(predictions, axis=1)\n"
   ]
  },
  {
   "cell_type": "code",
   "execution_count": 10,
   "id": "4c0ccbfd-8a6b-42d7-924e-31e902a733f1",
   "metadata": {},
   "outputs": [],
   "source": [
    "predicted_classes = np.argmax(predictions, axis=1)\n"
   ]
  },
  {
   "cell_type": "code",
   "execution_count": 11,
   "id": "411043ee-29d3-4ccd-867e-9383869aac94",
   "metadata": {},
   "outputs": [
    {
     "name": "stdout",
     "output_type": "stream",
     "text": [
      "                                              Class_0  Class_1  Class_2  \\\n",
      "Style Inspo\\pinterest_161214861651933404.png      0.0      0.0      0.0   \n",
      "Style Inspo\\pinterest_161214861652115460.jpg      0.0      0.0      0.0   \n",
      "Style Inspo\\pinterest_161214861652115470.jpg      0.0      0.0      0.0   \n",
      "Style Inspo\\pinterest_161214861652115471.jpg      0.0      0.0      0.0   \n",
      "Style Inspo\\pinterest_161214861652128869.jpg      0.0      0.0      0.0   \n",
      "\n",
      "                                              Class_3  Class_4  Class_5  \\\n",
      "Style Inspo\\pinterest_161214861651933404.png      0.0      0.0      0.0   \n",
      "Style Inspo\\pinterest_161214861652115460.jpg      0.0      0.0      0.0   \n",
      "Style Inspo\\pinterest_161214861652115470.jpg      0.0      0.0      0.0   \n",
      "Style Inspo\\pinterest_161214861652115471.jpg      0.0      0.0      0.0   \n",
      "Style Inspo\\pinterest_161214861652128869.jpg      0.0      0.0      0.0   \n",
      "\n",
      "                                              Class_6  Class_7  Class_8  \\\n",
      "Style Inspo\\pinterest_161214861651933404.png      0.0      0.0      0.0   \n",
      "Style Inspo\\pinterest_161214861652115460.jpg      1.0      0.0      0.0   \n",
      "Style Inspo\\pinterest_161214861652115470.jpg      0.0      0.0      0.0   \n",
      "Style Inspo\\pinterest_161214861652115471.jpg      0.0      0.0      0.0   \n",
      "Style Inspo\\pinterest_161214861652128869.jpg      0.0      0.0      0.0   \n",
      "\n",
      "                                              Class_9  ...  Class_187  \\\n",
      "Style Inspo\\pinterest_161214861651933404.png      0.0  ...        0.0   \n",
      "Style Inspo\\pinterest_161214861652115460.jpg      0.0  ...        0.0   \n",
      "Style Inspo\\pinterest_161214861652115470.jpg      0.0  ...        0.0   \n",
      "Style Inspo\\pinterest_161214861652115471.jpg      0.0  ...        0.0   \n",
      "Style Inspo\\pinterest_161214861652128869.jpg      0.0  ...        0.0   \n",
      "\n",
      "                                              Class_188  Class_189  Class_190  \\\n",
      "Style Inspo\\pinterest_161214861651933404.png        0.0        0.0        0.0   \n",
      "Style Inspo\\pinterest_161214861652115460.jpg        0.0        0.0        0.0   \n",
      "Style Inspo\\pinterest_161214861652115470.jpg        0.0        0.0        0.0   \n",
      "Style Inspo\\pinterest_161214861652115471.jpg        0.0        0.0        0.0   \n",
      "Style Inspo\\pinterest_161214861652128869.jpg        0.0        0.0        0.0   \n",
      "\n",
      "                                              Class_191  Class_192  Class_193  \\\n",
      "Style Inspo\\pinterest_161214861651933404.png        0.0        0.0        0.0   \n",
      "Style Inspo\\pinterest_161214861652115460.jpg        0.0        0.0        0.0   \n",
      "Style Inspo\\pinterest_161214861652115470.jpg        0.0        0.0        0.0   \n",
      "Style Inspo\\pinterest_161214861652115471.jpg        0.0        0.0        0.0   \n",
      "Style Inspo\\pinterest_161214861652128869.jpg        0.0        0.0        0.0   \n",
      "\n",
      "                                              Class_194  Class_195  Class_196  \n",
      "Style Inspo\\pinterest_161214861651933404.png        0.0        0.0        0.0  \n",
      "Style Inspo\\pinterest_161214861652115460.jpg        0.0        0.0        0.0  \n",
      "Style Inspo\\pinterest_161214861652115470.jpg        0.0        0.0        0.0  \n",
      "Style Inspo\\pinterest_161214861652115471.jpg        0.0        0.0        0.0  \n",
      "Style Inspo\\pinterest_161214861652128869.jpg        0.0        0.0        0.0  \n",
      "\n",
      "[5 rows x 197 columns]\n"
     ]
    }
   ],
   "source": [
    "num_images = len(new_images_generator.filenames)\n",
    "num_classes = 197  \n",
    "user_item_matrix = np.zeros((num_images, num_classes))\n",
    "\n",
    "for i, class_index in enumerate(predicted_classes):\n",
    "    user_item_matrix[i, class_index] = 1\n",
    "\n",
    "import pandas as pd\n",
    "class_labels = [f'Class_{i}' for i in range(num_classes)]  # Modify as per actual class names if available\n",
    "user_item_df = pd.DataFrame(user_item_matrix, columns=class_labels, index=new_images_generator.filenames)\n",
    "\n",
    "print(user_item_df.head())\n"
   ]
  },
  {
   "cell_type": "code",
   "execution_count": 12,
   "id": "923facb4-e571-41a1-8f8c-483016c6ebaa",
   "metadata": {},
   "outputs": [],
   "source": [
    "user_item_df.to_csv('C://Users//jkim436//Downloads//user_item_matrix1.csv')\n"
   ]
  },
  {
   "cell_type": "code",
   "execution_count": 13,
   "id": "eec667f2-d084-4726-a257-04460d2a7f4e",
   "metadata": {},
   "outputs": [],
   "source": [
    "model.save('C://Users//jkim436//Downloads//saved_model.keras')"
   ]
  },
  {
   "cell_type": "code",
   "execution_count": 14,
   "id": "e97247f6-eeca-497a-914a-75029b9ae86c",
   "metadata": {},
   "outputs": [
    {
     "name": "stdout",
     "output_type": "stream",
     "text": [
      "\u001b[1m1/1\u001b[0m \u001b[32m━━━━━━━━━━━━━━━━━━━━\u001b[0m\u001b[37m\u001b[0m \u001b[1m5s\u001b[0m 5s/step\n"
     ]
    }
   ],
   "source": [
    "from tensorflow.keras.preprocessing.image import load_img, img_to_array\n",
    "from tensorflow.keras.models import load_model\n",
    "import numpy as np\n",
    "\n",
    "# Load the model\n",
    "model = load_model('C://Users//jkim436//Downloads//saved_model.keras')  # Adjust the path as needed\n",
    "\n",
    "# Load the image\n",
    "img_path = 'C:\\\\Users\\\\jkim436\\\\Downloads\\\\981ea5c9-eb30-4cab-ac99-03b2f82d6383.webp'  # Adjust the path and filename as needed\n",
    "img = load_img(img_path, target_size=(64, 64))  # Resize to the input size of the model\n",
    "img_array = img_to_array(img)\n",
    "img_array = np.expand_dims(img_array, axis=0)  # Create a batch\n",
    "img_array /= 255.0  # Rescale the image similarly as the training data\n",
    "\n",
    "# Predict the class\n",
    "prediction = model.predict(img_array)\n",
    "predicted_class_index = np.argmax(prediction, axis=1)[0]\n"
   ]
  },
  {
   "cell_type": "code",
   "execution_count": 15,
   "id": "3fbb2a39-5cab-436f-b33a-5138a380cb77",
   "metadata": {},
   "outputs": [
    {
     "name": "stdout",
     "output_type": "stream",
     "text": [
      "Recommended categories based on the detected item category:\n",
      "['Style Inspo\\\\pinterest_161214861651933404.png', 'Style Inspo\\\\pinterest_161214861653195948.jpg', 'Style Inspo\\\\pinterest_161214861653228143.jpg']\n"
     ]
    }
   ],
   "source": [
    "user_item_matrix = pd.read_csv('C://Users//jkim436//Downloads//user_item_matrix1.csv', index_col=0)\n",
    "\n",
    "class_names = user_item_matrix.columns.tolist()\n",
    "\n",
    "predicted_class_name = class_names[predicted_class_index]\n",
    "\n",
    "predicted_row = user_item_matrix.loc[:, predicted_class_name]\n",
    "\n",
    "top_categories = predicted_row.sort_values(ascending=False).head(3).index.tolist()\n",
    "\n",
    "print(\"Recommended categories based on the detected item category:\")\n",
    "print(top_categories)\n"
   ]
  },
  {
   "cell_type": "code",
   "execution_count": 19,
   "id": "8c98481d-1226-45ab-973b-5b6f81c7c3be",
   "metadata": {},
   "outputs": [
    {
     "name": "stdout",
     "output_type": "stream",
     "text": [
      "\u001b[1m1/1\u001b[0m \u001b[32m━━━━━━━━━━━━━━━━━━━━\u001b[0m\u001b[37m\u001b[0m \u001b[1m5s\u001b[0m 5s/step\n",
      "Top categories based on cosine similarity: ['Class_195', 'Class_0', 'Class_135', 'Class_125', 'Class_126']\n",
      "Top categories based on Jaccard similarity: ['Class_195', 'Class_0', 'Class_135', 'Class_125', 'Class_126']\n"
     ]
    }
   ],
   "source": [
    "from tensorflow.keras.preprocessing.image import ImageDataGenerator, load_img, img_to_array\n",
    "from tensorflow.keras.models import load_model, Sequential\n",
    "from tensorflow.keras.layers import Conv2D, MaxPooling2D, Flatten, Dense, InputLayer\n",
    "import numpy as np\n",
    "import pandas as pd\n",
    "import os\n",
    "from scipy.spatial.distance import cosine, jaccard\n",
    "\n",
    "def safe_cosine(x, y):\n",
    "    # Adding a tiny epsilon to the denominator to avoid division by zero\n",
    "    try:\n",
    "        if np.linalg.norm(x) == 0 or np.linalg.norm(y) == 0:\n",
    "            return 0\n",
    "        return 1 - cosine(x, y)\n",
    "    except Exception as e:\n",
    "        print(f\"Error calculating cosine: {e}\")\n",
    "        return 0\n",
    "\n",
    "def safe_jaccard(x, y):\n",
    "    try:\n",
    "        return 1 - jaccard(x, y)\n",
    "    except:\n",
    "        return 0\n",
    "\n",
    "user_item_matrix = pd.read_csv('C://Users//jkim436//Downloads//user_item_matrix1.csv', index_col=0)\n",
    "\n",
    "model = load_model('C://Users//jkim436//Downloads//saved_model.keras')\n",
    "\n",
    "img_path = 'C://Users//jkim436//Downloads//9118001_1563416.webp'\n",
    "img = load_img(img_path, target_size=(64, 64))\n",
    "img_array = img_to_array(img)\n",
    "img_array = np.expand_dims(img_array, axis=0) / 255.0\n",
    "prediction = model.predict(img_array)\n",
    "predicted_class_index = np.argmax(prediction, axis=1)[0]\n",
    "predicted_class_name = user_item_matrix.columns[predicted_class_index]\n",
    "\n",
    "cosine_similarities = user_item_matrix.apply(lambda x: safe_cosine(x, user_item_matrix[predicted_class_name]), axis=0)\n",
    "top_cosine_categories = cosine_similarities.sort_values(ascending=False).head(5)\n",
    "\n",
    "jaccard_similarities = user_item_matrix.apply(lambda x: safe_jaccard(x, user_item_matrix[predicted_class_name]), axis=0)\n",
    "top_jaccard_categories = jaccard_similarities.sort_values(ascending=False).head(5)\n",
    "\n",
    "print(\"Top categories based on cosine similarity:\", top_cosine_categories.index.tolist())\n",
    "print(\"Top categories based on Jaccard similarity:\", top_jaccard_categories.index.tolist())"
   ]
  },
  {
   "cell_type": "code",
   "execution_count": 20,
   "id": "1e27189b-af21-433d-8790-d6090b36921c",
   "metadata": {},
   "outputs": [
    {
     "name": "stdout",
     "output_type": "stream",
     "text": [
      "Top 3 similar rows based on the selected top categories:\n",
      "Row index: Style Inspo\\pinterest_161214861653052041.png\n",
      "Row index: Style Inspo\\pinterest_161214861652493157.jpg\n",
      "Row index: Style Inspo\\pinterest_161214861653826557.png\n"
     ]
    }
   ],
   "source": [
    "filtered_matrix = user_item_matrix[top_cosine_categories.index.tolist()]\n",
    "\n",
    "composite_scores = filtered_matrix.sum(axis=1)\n",
    "\n",
    "top_rows = composite_scores.sort_values(ascending=False).head(3)\n",
    "\n",
    "print(\"Top 3 similar rows based on the selected top categories:\")\n",
    "for index, score in top_rows.items():\n",
    "    print(f\"Row index: {index}\")"
   ]
  },
  {
   "cell_type": "code",
   "execution_count": 24,
   "id": "6b1363a4-0855-47cc-9074-dee71c3f3a73",
   "metadata": {},
   "outputs": [
    {
     "name": "stdout",
     "output_type": "stream",
     "text": [
      "WARNING:tensorflow:6 out of the last 893 calls to <function TensorFlowTrainer.make_predict_function.<locals>.one_step_on_data_distributed at 0x00000196D0637EC0> triggered tf.function retracing. Tracing is expensive and the excessive number of tracings could be due to (1) creating @tf.function repeatedly in a loop, (2) passing tensors with different shapes, (3) passing Python objects instead of tensors. For (1), please define your @tf.function outside of the loop. For (2), @tf.function has reduce_retracing=True option that can avoid unnecessary retracing. For (3), please refer to https://www.tensorflow.org/guide/function#controlling_retracing and https://www.tensorflow.org/api_docs/python/tf/function for  more details.\n",
      "\u001b[1m1/1\u001b[0m \u001b[32m━━━━━━━━━━━━━━━━━━━━\u001b[0m\u001b[37m\u001b[0m \u001b[1m4s\u001b[0m 4s/step\n",
      "Top categories based on cosine similarity: ['ANKLE+BOOTS', 'PALAZZO+TROUSERS', 'PEARL+NECKLACE', 'PLATFORM+SNEAKERS', 'PLATFORM+WEDGE+SANDALS']\n",
      "Top categories based on Jaccard similarity: ['ANKLE+BOOTS', 'PALAZZO+TROUSERS', 'PEARL+NECKLACE', 'PLATFORM+SNEAKERS', 'PLATFORM+WEDGE+SANDALS']\n"
     ]
    }
   ],
   "source": [
    "from tensorflow.keras.preprocessing.image import ImageDataGenerator, load_img, img_to_array\n",
    "from tensorflow.keras.models import load_model, Sequential\n",
    "from tensorflow.keras.layers import Conv2D, MaxPooling2D, Flatten, Dense, InputLayer\n",
    "import numpy as np\n",
    "import pandas as pd\n",
    "from scipy.spatial.distance import cosine, jaccard\n",
    "\n",
    "def safe_cosine(x, y):\n",
    "    try:\n",
    "        if np.linalg.norm(x) == 0 or np.linalg.norm(y) == 0:\n",
    "            return 0\n",
    "        return 1 - cosine(x, y)\n",
    "    except Exception as e:\n",
    "        print(f\"Error calculating cosine: {e}\")\n",
    "        return 0\n",
    "\n",
    "def safe_jaccard(x, y):\n",
    "    try:\n",
    "        x_bin = np.round(x).astype(int)\n",
    "        y_bin = np.round(y).astype(int)\n",
    "        return 1 - jaccard(x_bin, y_bin)\n",
    "    except Exception as e:\n",
    "        print(f\"Error calculating Jaccard: {e}\")\n",
    "        return 0\n",
    "\n",
    "class_indices = train_generator.class_indices\n",
    "index_class_map = {v: k for k, v in class_indices.items()}\n",
    "\n",
    "user_item_matrix = pd.read_csv('C://Users//jkim436//Downloads//user_item_matrix.csv', index_col=0)\n",
    "user_item_matrix.columns = [index_class_map[int(idx.split('_')[1])] for idx in user_item_matrix.columns]\n",
    "\n",
    "model = load_model('C://Users//jkim436//Downloads//saved_model.keras')\n",
    "\n",
    "img_path = 'C://Users//jkim436//Downloads//9118001_1563416.webp'\n",
    "img = load_img(img_path, target_size=(64, 64))\n",
    "img_array = img_to_array(img)\n",
    "img_array = np.expand_dims(img_array, axis=0) / 255.0\n",
    "prediction = model.predict(img_array)\n",
    "predicted_class_index = np.argmax(prediction, axis=1)[0]\n",
    "predicted_class_name = index_class_map[predicted_class_index]\n",
    "\n",
    "if predicted_class_name in user_item_matrix.columns:\n",
    "    similarity_columns = [col for col in user_item_matrix.columns if col != predicted_class_name]\n",
    "    \n",
    "    cosine_similarities = user_item_matrix[similarity_columns].apply(lambda x: safe_cosine(x, user_item_matrix[predicted_class_name]), axis=0)\n",
    "    top_cosine_categories = cosine_similarities.sort_values(ascending=False).head(5)\n",
    "    print(\"Top categories based on cosine similarity:\", top_cosine_categories.index.tolist())\n",
    "\n",
    "    jaccard_similarities = user_item_matrix[similarity_columns].apply(lambda x: safe_jaccard(x, user_item_matrix[predicted_class_name]), axis=0)\n",
    "    top_jaccard_categories = jaccard_similarities.sort_values(ascending=False).head(5)\n",
    "    print(\"Top categories based on Jaccard similarity:\", top_jaccard_categories.index.tolist())\n",
    "else:\n",
    "    print(f\"The predicted class '{predicted_class_name}' is not found in the user-item matrix.\")"
   ]
  },
  {
   "cell_type": "code",
   "execution_count": 25,
   "id": "f935f2f9-af04-479a-bd41-08ad942f4f8a",
   "metadata": {},
   "outputs": [
    {
     "data": {
      "text/plain": [
       "'WIDE+LEG+HIGH-RISE+JEANS'"
      ]
     },
     "execution_count": 25,
     "metadata": {},
     "output_type": "execute_result"
    }
   ],
   "source": [
    "predicted_class_name"
   ]
  },
  {
   "cell_type": "code",
   "execution_count": 22,
   "id": "80617b0b-4e95-45eb-86c1-07abab467abc",
   "metadata": {},
   "outputs": [
    {
     "name": "stdout",
     "output_type": "stream",
     "text": [
      "Example image for category 'ANKLE+BOOTS': C://Users//jkim436//Downloads//compressed_images\\ANKLE+BOOTS\\pinterest_1040120476438250230.jpg\n",
      "Example image for category 'BERMUDA+SHORTS': C://Users//jkim436//Downloads//compressed_images\\BERMUDA+SHORTS\\pinterest_1003247254484547555.jpg\n",
      "Example image for category 'BLOUSE+WITH+SHORT+SLEEVES': C://Users//jkim436//Downloads//compressed_images\\BLOUSE+WITH+SHORT+SLEEVES\\pinterest_1008313804046368257.jpg\n"
     ]
    }
   ],
   "source": [
    "base_dir = 'C://Users//jkim436//Downloads//compressed_images'\n",
    "\n",
    "class_indices = train_generator.class_indices\n",
    "index_class_map = {v: k for k, v in class_indices.items()}\n",
    "\n",
    "predicted_classes = [0, 5, 10]  \n",
    "for idx in predicted_classes:\n",
    "    class_name = index_class_map[idx]\n",
    "    category_dir = os.path.join(base_dir, class_name)  \n",
    "    example_image_name = os.listdir(category_dir)[0]  \n",
    "    example_image_path = os.path.join(category_dir, example_image_name)\n",
    "    print(f\"Example image for category '{class_name}': {example_image_path}\")"
   ]
  },
  {
   "cell_type": "code",
   "execution_count": 26,
   "id": "88f6c065-ef1c-4f20-885c-ab8782b5bc43",
   "metadata": {},
   "outputs": [
    {
     "name": "stdout",
     "output_type": "stream",
     "text": [
      "\u001b[1m1/1\u001b[0m \u001b[32m━━━━━━━━━━━━━━━━━━━━\u001b[0m\u001b[37m\u001b[0m \u001b[1m0s\u001b[0m 94ms/step\n",
      "Top categories based on cosine similarity: ['ANKLE+BOOTS', 'PATCHWORK+KNIT+CARDIGAN', 'PLATFORM+SNEAKERS', 'PLATFORM+WEDGE+SANDALS', 'PLEATED+SKIRT']\n",
      "Top categories based on Jaccard similarity: ['ANKLE+BOOTS', 'LINEN+SHIRT+WITH+POCKET', 'PEARL+NECKLACE', 'PAISLEY+PRINT+SHIRT', 'OXFORD+SHIRT']\n"
     ]
    }
   ],
   "source": [
    "img_path = 'C://Users//jkim436//Downloads//images.jfif'\n",
    "img = load_img(img_path, target_size=(64, 64))\n",
    "img_array = img_to_array(img)\n",
    "img_array = np.expand_dims(img_array, axis=0) / 255.0\n",
    "prediction = model.predict(img_array)\n",
    "predicted_class_index = np.argmax(prediction, axis=1)[0]\n",
    "predicted_class_name = user_item_matrix.columns[predicted_class_index]\n",
    "\n",
    "cosine_similarities = user_item_matrix.apply(lambda x: safe_cosine(x, user_item_matrix[predicted_class_name]), axis=0)\n",
    "top_cosine_categories = cosine_similarities.sort_values(ascending=False).head(5)\n",
    "\n",
    "jaccard_similarities = user_item_matrix.apply(lambda x: safe_jaccard(x, user_item_matrix[predicted_class_name]), axis=0)\n",
    "top_jaccard_categories = jaccard_similarities.sort_values(ascending=False).head(5)\n",
    "\n",
    "print(\"Top categories based on cosine similarity:\", top_cosine_categories.index.tolist())\n",
    "print(\"Top categories based on Jaccard similarity:\", top_jaccard_categories.index.tolist())"
   ]
  },
  {
   "cell_type": "code",
   "execution_count": 27,
   "id": "96148e16-b8c4-4fb3-83f5-ed3a66f8c7e7",
   "metadata": {},
   "outputs": [
    {
     "name": "stdout",
     "output_type": "stream",
     "text": [
      "Top 3 similar rows based on the selected top categories:\n",
      "Row index: Style Inspo\\pinterest_161214861652308701.jpg\n",
      "Row index: Style Inspo\\pinterest_161214861652573748.png\n",
      "Row index: Style Inspo\\pinterest_161214861653657899.jpg\n"
     ]
    }
   ],
   "source": [
    "filtered_matrix = user_item_matrix[top_cosine_categories.index.tolist()]\n",
    "\n",
    "composite_scores = filtered_matrix.sum(axis=1)\n",
    "\n",
    "top_rows = composite_scores.sort_values(ascending=False).head(3)\n",
    "\n",
    "print(\"Top 3 similar rows based on the selected top categories:\")\n",
    "for index, score in top_rows.items():\n",
    "    print(f\"Row index: {index}\")"
   ]
  },
  {
   "cell_type": "code",
   "execution_count": 28,
   "id": "a60d3b47-9e9a-4174-9004-bcc43db6f9e0",
   "metadata": {},
   "outputs": [
    {
     "name": "stdout",
     "output_type": "stream",
     "text": [
      "\u001b[1m1/1\u001b[0m \u001b[32m━━━━━━━━━━━━━━━━━━━━\u001b[0m\u001b[37m\u001b[0m \u001b[1m5s\u001b[0m 5s/step\n",
      "Top categories based on cosine similarity: ['ANKLE+BOOTS', 'PALAZZO+TROUSERS', 'PEARL+NECKLACE', 'PLATFORM+SNEAKERS', 'PLATFORM+WEDGE+SANDALS']\n",
      "Top categories based on Jaccard similarity: ['ANKLE+BOOTS', 'SHEER+BLOUSE', 'LINEN+SHIRT', 'SATIN+SHIRT', 'SATIN+TROUSERS']\n"
     ]
    }
   ],
   "source": [
    "from tensorflow.keras.preprocessing.image import ImageDataGenerator, load_img, img_to_array\n",
    "from tensorflow.keras.models import load_model, Sequential\n",
    "from tensorflow.keras.layers import Conv2D, MaxPooling2D, Flatten, Dense, InputLayer\n",
    "import numpy as np\n",
    "import pandas as pd\n",
    "from scipy.spatial.distance import cosine, jaccard\n",
    "\n",
    "def safe_cosine(x, y):\n",
    "    try:\n",
    "        if np.linalg.norm(x) == 0 or np.linalg.norm(y) == 0:\n",
    "            return 0\n",
    "        return 1 - cosine(x, y)\n",
    "    except Exception as e:\n",
    "        print(f\"Error calculating cosine: {e}\")\n",
    "        return 0\n",
    "\n",
    "def safe_jaccard(x, y):\n",
    "    try:\n",
    "        x_bin = np.round(x).astype(int)\n",
    "        y_bin = np.round(y).astype(int)\n",
    "        return 1 - jaccard(x_bin, y_bin)\n",
    "    except Exception as e:\n",
    "        print(f\"Error calculating Jaccard: {e}\")\n",
    "        return 0\n",
    "\n",
    "class_indices = train_generator.class_indices\n",
    "index_class_map = {v: k for k, v in class_indices.items()}\n",
    "\n",
    "user_item_matrix = pd.read_csv('C://Users//jkim436//Downloads//user_item_matrix1.csv', index_col=0)\n",
    "user_item_matrix.columns = [index_class_map[int(idx.split('_')[1])] for idx in user_item_matrix.columns]\n",
    "\n",
    "model = load_model('C://Users//jkim436//Downloads//saved_model.keras')\n",
    "\n",
    "img_path = 'C://Users//jkim436//Downloads//images.jfif'\n",
    "img = load_img(img_path, target_size=(64, 64))\n",
    "img_array = img_to_array(img)\n",
    "img_array = np.expand_dims(img_array, axis=0) / 255.0\n",
    "prediction = model.predict(img_array)\n",
    "predicted_class_index = np.argmax(prediction, axis=1)[0]\n",
    "predicted_class_name = index_class_map[predicted_class_index]\n",
    "\n",
    "if predicted_class_name in user_item_matrix.columns:\n",
    "    similarity_columns = [col for col in user_item_matrix.columns if col != predicted_class_name]\n",
    "    \n",
    "    cosine_similarities = user_item_matrix[similarity_columns].apply(lambda x: safe_cosine(x, user_item_matrix[predicted_class_name]), axis=0)\n",
    "    top_cosine_categories = cosine_similarities.sort_values(ascending=False).head(5)\n",
    "    print(\"Top categories based on cosine similarity:\", top_cosine_categories.index.tolist())\n",
    "\n",
    "    jaccard_similarities = user_item_matrix[similarity_columns].apply(lambda x: safe_jaccard(x, user_item_matrix[predicted_class_name]), axis=0)\n",
    "    top_jaccard_categories = jaccard_similarities.sort_values(ascending=False).head(5)\n",
    "    print(\"Top categories based on Jaccard similarity:\", top_jaccard_categories.index.tolist())\n",
    "else:\n",
    "    print(f\"The predicted class '{predicted_class_name}' is not found in the user-item matrix.\")"
   ]
  },
  {
   "cell_type": "code",
   "execution_count": 29,
   "id": "6a6a455a-d971-4873-891b-8005724575ed",
   "metadata": {},
   "outputs": [
    {
     "data": {
      "text/plain": [
       "'QUARTER+ZIP'"
      ]
     },
     "execution_count": 29,
     "metadata": {},
     "output_type": "execute_result"
    }
   ],
   "source": [
    "predicted_class_name"
   ]
  },
  {
   "cell_type": "code",
   "execution_count": null,
   "id": "9c47b402-5ba0-4511-9178-e6f926e95418",
   "metadata": {},
   "outputs": [],
   "source": []
  }
 ],
 "metadata": {
  "kernelspec": {
   "display_name": "Python 3 (ipykernel)",
   "language": "python",
   "name": "python3"
  },
  "language_info": {
   "codemirror_mode": {
    "name": "ipython",
    "version": 3
   },
   "file_extension": ".py",
   "mimetype": "text/x-python",
   "name": "python",
   "nbconvert_exporter": "python",
   "pygments_lexer": "ipython3",
   "version": "3.11.7"
  }
 },
 "nbformat": 4,
 "nbformat_minor": 5
}
